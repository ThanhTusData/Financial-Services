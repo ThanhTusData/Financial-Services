{
 "cells": [
  {
   "cell_type": "raw",
   "id": "5d8893b3-9d1f-4fee-be21-9e23f2407af4",
   "metadata": {},
   "source": [
    "File: reduced_dataset-release.csv\n",
    "\n",
    "Column name\tDescription\n",
    "TWEET\tText of the tweet. (String)\n",
    "STOCK\tCompany's stock mentioned in the tweet. (String)\n",
    "DATE\tDate the tweet was posted. (Date)\n",
    "LAST_PRICE\tCompany's last price at the time of tweeting. (Float)\n",
    "1_DAY_RETURN\tAmount the stock returned or lost over the course of the next day after being tweeted about. (Float)\n",
    "2_DAY_RETURN\tAmount the stock returned or lost over the course of the two days after being tweeted about. (Float)\n",
    "3_DAY_RETURN\tAmount the stock returned or lost over the course of the three days after being tweeted about. (Float)\n",
    "7_DAY_RETURN\tAmount the stock returned or lost over the course of the seven days after being tweeted about. (Float)\n",
    "PX_VOLUME\tVolume traded at the time of tweeting. (Integer)\n",
    "VOLATILITY_10D\tVolatility measure across 10 day window. (Float)\n",
    "VOLATILITY_30D\tVolatility measure across 30 day window. (Float)\n",
    "LSTM_POLARITY\tLabeled sentiment from LSTM. (Float)\n",
    "TEXTBLOB_POLARITY\tLabeled sentiment from TextBlob. (Float)\n",
    "MENTION\tNumber of times the stock was mentioned in the tweet. (Integer)"
   ]
  },
  {
   "cell_type": "raw",
   "id": "3f0a2b86-cbb0-4cff-8e00-8a15baba4dae",
   "metadata": {},
   "source": [
    "File: full_dataset-release.csv\n",
    "\n",
    "Column name\tDescription\n",
    "TWEET\tText of the tweet. (String)\n",
    "STOCK\tCompany's stock mentioned in the tweet. (String)\n",
    "DATE\tDate the tweet was posted. (Date)\n",
    "LAST_PRICE\tCompany's last price at the time of tweeting. (Float)\n",
    "1_DAY_RETURN\tAmount the stock returned or lost over the course of the next day after being tweeted about. (Float)\n",
    "2_DAY_RETURN\tAmount the stock returned or lost over the course of the two days after being tweeted about. (Float)\n",
    "3_DAY_RETURN\tAmount the stock returned or lost over the course of the three days after being tweeted about. (Float)\n",
    "7_DAY_RETURN\tAmount the stock returned or lost over the course of the seven days after being tweeted about. (Float)\n",
    "PX_VOLUME\tVolume traded at the time of tweeting. (Integer)\n",
    "VOLATILITY_10D\tVolatility measure across 10 day window. (Float)\n",
    "VOLATILITY_30D\tVolatility measure across 30 day window. (Float)\n",
    "LSTM_POLARITY\tLabeled sentiment from LSTM. (Float)\n",
    "TEXTBLOB_POLARITY\tLabeled sentiment from TextBlob. (Float)"
   ]
  },
  {
   "cell_type": "code",
   "execution_count": null,
   "id": "d5ea0567-8f65-446d-a64a-cb165d272740",
   "metadata": {},
   "outputs": [],
   "source": []
  }
 ],
 "metadata": {
  "kernelspec": {
   "display_name": "Python 3 (ipykernel)",
   "language": "python",
   "name": "python3"
  },
  "language_info": {
   "codemirror_mode": {
    "name": "ipython",
    "version": 3
   },
   "file_extension": ".py",
   "mimetype": "text/x-python",
   "name": "python",
   "nbconvert_exporter": "python",
   "pygments_lexer": "ipython3",
   "version": "3.12.4"
  }
 },
 "nbformat": 4,
 "nbformat_minor": 5
}
